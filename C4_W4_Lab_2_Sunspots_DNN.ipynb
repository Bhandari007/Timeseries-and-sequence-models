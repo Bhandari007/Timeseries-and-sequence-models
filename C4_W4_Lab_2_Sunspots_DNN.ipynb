{
  "nbformat": 4,
  "nbformat_minor": 0,
  "metadata": {
    "colab": {
      "provenance": [],
      "authorship_tag": "ABX9TyMKJBEciVQPeajLMfNOTKvL",
      "include_colab_link": true
    },
    "kernelspec": {
      "name": "python3",
      "display_name": "Python 3"
    },
    "language_info": {
      "name": "python"
    }
  },
  "cells": [
    {
      "cell_type": "markdown",
      "metadata": {
        "id": "view-in-github",
        "colab_type": "text"
      },
      "source": [
        "<a href=\"https://colab.research.google.com/github/Bhandari007/Timeseries-and-sequence-models/blob/main/C4_W4_Lab_2_Sunspots_DNN.ipynb\" target=\"_parent\"><img src=\"https://colab.research.google.com/assets/colab-badge.svg\" alt=\"Open In Colab\"/></a>"
      ]
    },
    {
      "cell_type": "markdown",
      "source": [
        "# Predicting Sunspots with Neural Networks\n",
        "\n",
        "In this lab, we will train on the Sunspost dataset: a monthly record os sunspot numbers from Jan 1749 to Jul 2018. We will build a deep neural network composed of dense layers."
      ],
      "metadata": {
        "id": "nB-k9n1wxx2H"
      }
    },
    {
      "cell_type": "markdown",
      "source": [
        "# Imports"
      ],
      "metadata": {
        "id": "aAQpS97YyPbF"
      }
    },
    {
      "cell_type": "code",
      "source": [
        "import tensorflow as tf\n",
        "import numpy as np\n",
        "import matplotlib.pyplot as plt\n",
        "import csv"
      ],
      "metadata": {
        "id": "d6Po1e1RyQ9O"
      },
      "execution_count": 1,
      "outputs": []
    },
    {
      "cell_type": "code",
      "source": [
        "def plot_series(x, y, format = \"-\", start = 0, end = None, title = None, xlabel = None, ylabel = None, legend = None):\n",
        "  \n",
        "  # Setup dimensions of the graph figure\n",
        "  plt.figure(figsize=(10,6))\n",
        "\n",
        "  # Check if there are more than two series to plot\n",
        "  if type(y) is tuple:\n",
        "    # loop over the y elements\n",
        "    for y_curr in y:\n",
        "      # Plot the x and current y values\n",
        "      plt.plot(x[start:end], y_curr[start:end], format)\n",
        "\n",
        "  else:\n",
        "    plt.plot(x[start:end], y[start:end], format)\n",
        "\n",
        "  # Label the x-axis\n",
        "  plt.xlabel(xlabel)\n",
        "\n",
        "  # Label the y-axis\n",
        "  plt.ylabel(ylabel)\n",
        "\n",
        "  # Set the legend\n",
        "  if legend:\n",
        "    plt.legend(legend)\n",
        "\n",
        "  # Overlay a grid on the graph\n",
        "  plt.grid(True)\n",
        "\n",
        "  # Draw the graph on screen\n",
        "  plt.show()"
      ],
      "metadata": {
        "id": "7a0QPKAkyW_K"
      },
      "execution_count": 2,
      "outputs": []
    },
    {
      "cell_type": "markdown",
      "source": [
        "# Download and Preview the Datset"
      ],
      "metadata": {
        "id": "4eyrehazzixW"
      }
    },
    {
      "cell_type": "code",
      "source": [
        "# Download the dataset\n",
        "!wget https://storage.googleapis.com/tensorflow-1-public/course4/Sunspots.csv"
      ],
      "metadata": {
        "colab": {
          "base_uri": "https://localhost:8080/"
        },
        "id": "nHnhuhHEzmA3",
        "outputId": "2989ea27-01d3-42d2-98fb-5605af497f1e"
      },
      "execution_count": 3,
      "outputs": [
        {
          "output_type": "stream",
          "name": "stdout",
          "text": [
            "--2022-10-30 12:12:15--  https://storage.googleapis.com/tensorflow-1-public/course4/Sunspots.csv\n",
            "Resolving storage.googleapis.com (storage.googleapis.com)... 209.85.146.128, 209.85.147.128, 142.250.125.128, ...\n",
            "Connecting to storage.googleapis.com (storage.googleapis.com)|209.85.146.128|:443... connected.\n",
            "HTTP request sent, awaiting response... 200 OK\n",
            "Length: 70827 (69K) [text/csv]\n",
            "Saving to: ‘Sunspots.csv’\n",
            "\n",
            "\rSunspots.csv          0%[                    ]       0  --.-KB/s               \rSunspots.csv        100%[===================>]  69.17K  --.-KB/s    in 0.001s  \n",
            "\n",
            "2022-10-30 12:12:15 (82.3 MB/s) - ‘Sunspots.csv’ saved [70827/70827]\n",
            "\n"
          ]
        }
      ]
    },
    {
      "cell_type": "code",
      "source": [
        "# Preview the dataset\n",
        "!head Sunspots.csv"
      ],
      "metadata": {
        "colab": {
          "base_uri": "https://localhost:8080/"
        },
        "id": "-ozKWV1vznrJ",
        "outputId": "a921cb7a-d402-4946-f853-08826e7d2c16"
      },
      "execution_count": 4,
      "outputs": [
        {
          "output_type": "stream",
          "name": "stdout",
          "text": [
            ",Date,Monthly Mean Total Sunspot Number\r\n",
            "0,1749-01-31,96.7\r\n",
            "1,1749-02-28,104.3\r\n",
            "2,1749-03-31,116.7\r\n",
            "3,1749-04-30,92.8\r\n",
            "4,1749-05-31,141.7\r\n",
            "5,1749-06-30,139.2\r\n",
            "6,1749-07-31,158.0\r\n",
            "7,1749-08-31,110.5\r\n",
            "8,1749-09-30,126.5\r\n"
          ]
        }
      ]
    },
    {
      "cell_type": "code",
      "source": [
        "# Initialize lists\n",
        "time_step = []\n",
        "sunspots = []\n",
        "\n",
        "# Open CSV file\n",
        "with open(\"./Sunspots.csv\") as csvfile:\n",
        "  # Initialize reader\n",
        "  reader = csv.reader(csvfile, delimiter = \",\")\n",
        "\n",
        "  # Skip the first line\n",
        "  next(reader)\n",
        "\n",
        "  # Append row and sunspot number to lists\n",
        "  for row in reader:\n",
        "    time_step.append(int(row[0]))\n",
        "    sunspots.append(float(row[2]))\n",
        "  \n",
        "# Convert lists to numpy arrays\n",
        "time = np.array(time_step)\n",
        "series = np.array(sunspots)\n",
        "\n",
        "# Preview the data\n",
        "plot_series(time, series, xlabel = \"Month\", ylabel = \"Monthly Mean Total Sunspot NUmber\")\n"
      ],
      "metadata": {
        "colab": {
          "base_uri": "https://localhost:8080/",
          "height": 388
        },
        "id": "lpFEzHh7zuNs",
        "outputId": "52a09994-19b8-4de0-d4c7-86adc1ef8758"
      },
      "execution_count": 6,
      "outputs": [
        {
          "output_type": "display_data",
          "data": {
            "text/plain": [
              "<Figure size 720x432 with 1 Axes>"
            ],
            "image/png": "[encoded data removed]"
          },
          "metadata": {
            "needs_background": "light"
          }
        }
      ]
    },
    {
      "cell_type": "markdown",
      "source": [
        "# Split the Dataset"
      ],
      "metadata": {
        "id": "dE15Zmr10Yyv"
      }
    },
    {
      "cell_type": "code",
      "source": [
        "# Define the split time\n",
        "split_time = 3000\n",
        "\n",
        "# Get the train set\n",
        "time_train = time[:split_time]\n",
        "x_train = series[:split_time]\n",
        "\n",
        "# Get the validation set\n",
        "time_valid = time[split_time:]\n",
        "x_valid = series[split_time:]"
      ],
      "metadata": {
        "id": "AtkzeIiw0e6a"
      },
      "execution_count": 7,
      "outputs": []
    },
    {
      "cell_type": "markdown",
      "source": [
        "# Prepare Features and Labels"
      ],
      "metadata": {
        "id": "bkB1d1Bi2QMO"
      }
    },
    {
      "cell_type": "code",
      "source": [
        "def windowed_dataset(series, window_size, batch_size, shuffle_buffer):\n",
        "\n",
        "  # Generate a TF Dataset from the series values\n",
        "  dataset = tf.data.Dataset.from_tensor_slices(series)\n",
        "\n",
        "  # Window the data but only take those with the specified size\n",
        "  dataset = dataset.window(window_size + 1, shift = 1, drop_remainder = True)\n",
        "\n",
        "  # Flatten the windows by putting its elements in a single batch\n",
        "  dataset = dataset.flat_map(lambda window: window.batch(window_size + 1))\n",
        "\n",
        "  # Create tuples with features and labels\n",
        "  dataset = dataset.map(lambda window: (window[:-1], window[-1]))\n",
        "\n",
        "  # Shuffle the windows\n",
        "  dataset = dataset.shuffle(shuffle_buffer)\n",
        "\n",
        "  # Create batches of windows\n",
        "  dataset = dataset.batch(batch_size).prefetch(1)\n",
        "\n",
        "  return dataset\n"
      ],
      "metadata": {
        "id": "zxcGlxtS2T9q"
      },
      "execution_count": 8,
      "outputs": []
    },
    {
      "cell_type": "code",
      "source": [
        "# Parameters\n",
        "window_size = 30\n",
        "batch_size = 32\n",
        "shuffle_buffer_size = 1000\n",
        "\n",
        "# Generate the dataset windows\n",
        "train_set = windowed_dataset(x_train, window_size, batch_size, shuffle_buffer_size)"
      ],
      "metadata": {
        "id": "c_SX4iTp3OlU"
      },
      "execution_count": 9,
      "outputs": []
    },
    {
      "cell_type": "markdown",
      "source": [
        "# Build the Model"
      ],
      "metadata": {
        "id": "yylWTO7_3kWZ"
      }
    },
    {
      "cell_type": "code",
      "source": [
        "model = tf.keras.models.Sequential([\n",
        "    tf.keras.layers.Dense(30, input_shape = [window_size], activation = \"relu\"),\n",
        "    tf.keras.layers.Dense(10, activation = \"relu\"),\n",
        "    tf.keras.layers.Dense(1)\n",
        "])\n",
        "\n",
        "model.summary()"
      ],
      "metadata": {
        "colab": {
          "base_uri": "https://localhost:8080/"
        },
        "id": "uAQpvIf13mTm",
        "outputId": "181cc671-98d6-4880-fa19-76f5c9356fc0"
      },
      "execution_count": 10,
      "outputs": [
        {
          "output_type": "stream",
          "name": "stdout",
          "text": [
            "Model: \"sequential\"\n",
            "_________________________________________________________________\n",
            " Layer (type)                Output Shape              Param #   \n",
            "=================================================================\n",
            " dense (Dense)               (None, 30)                930       \n",
            "                                                                 \n",
            " dense_1 (Dense)             (None, 10)                310       \n",
            "                                                                 \n",
            " dense_2 (Dense)             (None, 1)                 11        \n",
            "                                                                 \n",
            "=================================================================\n",
            "Total params: 1,251\n",
            "Trainable params: 1,251\n",
            "Non-trainable params: 0\n",
            "_________________________________________________________________\n"
          ]
        }
      ]
    },
    {
      "cell_type": "markdown",
      "source": [
        "# Tune the Learning Rate"
      ],
      "metadata": {
        "id": "HB6qQD8i30cK"
      }
    },
    {
      "cell_type": "code",
      "source": [
        "lr_schedule = tf.keras.callbacks.LearningRateScheduler(\n",
        "    lambda epoch: 1e-8 * 10 **(epoch/20)\n",
        ")\n",
        "\n",
        "# Initalize the optimizer\n",
        "optimizer = tf.keras.optimizers.SGD(momentum = 0.9)\n",
        "\n",
        "# Set the training parameters\n",
        "model.compile(loss = tf.keras.losses.Huber(), optimizer = optimizer)\n",
        "\n",
        "# Train the model\n",
        "history = model.fit(train_set, epochs = 100, callbacks = [lr_schedule])"
      ],
      "metadata": {
        "colab": {
          "base_uri": "https://localhost:8080/"
        },
        "id": "sdwNe2tx3326",
        "outputId": "cd643d96-89f8-46cf-aac1-f2afedb9d7dd"
      },
      "execution_count": 12,
      "outputs": [
        {
          "output_type": "stream",
          "name": "stdout",
          "text": [
            "Epoch 1/100\n",
            "93/93 [==============================] - 2s 5ms/step - loss: 196.4267 - lr: 1.0000e-08\n",
            "Epoch 2/100\n",
            "93/93 [==============================] - 1s 6ms/step - loss: 194.2125 - lr: 1.1220e-08\n",
            "Epoch 3/100\n",
            "93/93 [==============================] - 1s 4ms/step - loss: 191.7364 - lr: 1.2589e-08\n",
            "Epoch 4/100\n",
            "93/93 [==============================] - 1s 5ms/step - loss: 188.9924 - lr: 1.4125e-08\n",
            "Epoch 5/100\n",
            "93/93 [==============================] - 1s 4ms/step - loss: 185.9627 - lr: 1.5849e-08\n",
            "Epoch 6/100\n",
            "93/93 [==============================] - 1s 5ms/step - loss: 182.6194 - lr: 1.7783e-08\n",
            "Epoch 7/100\n",
            "93/93 [==============================] - 1s 5ms/step - loss: 178.9362 - lr: 1.9953e-08\n",
            "Epoch 8/100\n",
            "93/93 [==============================] - 1s 5ms/step - loss: 174.8818 - lr: 2.2387e-08\n",
            "Epoch 9/100\n",
            "93/93 [==============================] - 1s 5ms/step - loss: 170.4279 - lr: 2.5119e-08\n",
            "Epoch 10/100\n",
            "93/93 [==============================] - 1s 5ms/step - loss: 165.5535 - lr: 2.8184e-08\n",
            "Epoch 11/100\n",
            "93/93 [==============================] - 1s 4ms/step - loss: 160.2245 - lr: 3.1623e-08\n",
            "Epoch 12/100\n",
            "93/93 [==============================] - 1s 4ms/step - loss: 154.4059 - lr: 3.5481e-08\n",
            "Epoch 13/100\n",
            "93/93 [==============================] - 1s 4ms/step - loss: 148.0773 - lr: 3.9811e-08\n",
            "Epoch 14/100\n",
            "93/93 [==============================] - 1s 5ms/step - loss: 141.2244 - lr: 4.4668e-08\n",
            "Epoch 15/100\n",
            "93/93 [==============================] - 1s 5ms/step - loss: 133.8538 - lr: 5.0119e-08\n",
            "Epoch 16/100\n",
            "93/93 [==============================] - 1s 4ms/step - loss: 126.0133 - lr: 5.6234e-08\n",
            "Epoch 17/100\n",
            "93/93 [==============================] - 1s 5ms/step - loss: 117.8911 - lr: 6.3096e-08\n",
            "Epoch 18/100\n",
            "93/93 [==============================] - 1s 4ms/step - loss: 109.9898 - lr: 7.0795e-08\n",
            "Epoch 19/100\n",
            "93/93 [==============================] - 1s 5ms/step - loss: 102.7676 - lr: 7.9433e-08\n",
            "Epoch 20/100\n",
            "93/93 [==============================] - 1s 4ms/step - loss: 96.4972 - lr: 8.9125e-08\n",
            "Epoch 21/100\n",
            "93/93 [==============================] - 1s 5ms/step - loss: 91.0613 - lr: 1.0000e-07\n",
            "Epoch 22/100\n",
            "93/93 [==============================] - 1s 4ms/step - loss: 86.2133 - lr: 1.1220e-07\n",
            "Epoch 23/100\n",
            "93/93 [==============================] - 1s 4ms/step - loss: 81.6935 - lr: 1.2589e-07\n",
            "Epoch 24/100\n",
            "93/93 [==============================] - 1s 5ms/step - loss: 77.1677 - lr: 1.4125e-07\n",
            "Epoch 25/100\n",
            "93/93 [==============================] - 1s 4ms/step - loss: 72.3973 - lr: 1.5849e-07\n",
            "Epoch 26/100\n",
            "93/93 [==============================] - 1s 5ms/step - loss: 67.1145 - lr: 1.7783e-07\n",
            "Epoch 27/100\n",
            "93/93 [==============================] - 1s 4ms/step - loss: 61.1347 - lr: 1.9953e-07\n",
            "Epoch 28/100\n",
            "93/93 [==============================] - 1s 4ms/step - loss: 54.3509 - lr: 2.2387e-07\n",
            "Epoch 29/100\n",
            "93/93 [==============================] - 1s 5ms/step - loss: 47.1155 - lr: 2.5119e-07\n",
            "Epoch 30/100\n",
            "93/93 [==============================] - 1s 4ms/step - loss: 40.6658 - lr: 2.8184e-07\n",
            "Epoch 31/100\n",
            "93/93 [==============================] - 1s 5ms/step - loss: 36.2119 - lr: 3.1623e-07\n",
            "Epoch 32/100\n",
            "93/93 [==============================] - 1s 11ms/step - loss: 33.9483 - lr: 3.5481e-07\n",
            "Epoch 33/100\n",
            "93/93 [==============================] - 1s 6ms/step - loss: 32.8660 - lr: 3.9811e-07\n",
            "Epoch 34/100\n",
            "93/93 [==============================] - 1s 5ms/step - loss: 32.0963 - lr: 4.4668e-07\n",
            "Epoch 35/100\n",
            "93/93 [==============================] - 1s 11ms/step - loss: 31.2739 - lr: 5.0119e-07\n",
            "Epoch 36/100\n",
            "93/93 [==============================] - 1s 5ms/step - loss: 30.3299 - lr: 5.6234e-07\n",
            "Epoch 37/100\n",
            "93/93 [==============================] - 1s 4ms/step - loss: 29.3015 - lr: 6.3096e-07\n",
            "Epoch 38/100\n",
            "93/93 [==============================] - 1s 4ms/step - loss: 28.2967 - lr: 7.0795e-07\n",
            "Epoch 39/100\n",
            "93/93 [==============================] - 1s 5ms/step - loss: 27.3302 - lr: 7.9433e-07\n",
            "Epoch 40/100\n",
            "93/93 [==============================] - 1s 4ms/step - loss: 26.5143 - lr: 8.9125e-07\n",
            "Epoch 41/100\n",
            "93/93 [==============================] - 1s 5ms/step - loss: 25.8233 - lr: 1.0000e-06\n",
            "Epoch 42/100\n",
            "93/93 [==============================] - 1s 4ms/step - loss: 25.1932 - lr: 1.1220e-06\n",
            "Epoch 43/100\n",
            "93/93 [==============================] - 1s 5ms/step - loss: 24.5650 - lr: 1.2589e-06\n",
            "Epoch 44/100\n",
            "93/93 [==============================] - 1s 4ms/step - loss: 23.8629 - lr: 1.4125e-06\n",
            "Epoch 45/100\n",
            "93/93 [==============================] - 1s 5ms/step - loss: 23.3143 - lr: 1.5849e-06\n",
            "Epoch 46/100\n",
            "93/93 [==============================] - 1s 4ms/step - loss: 22.7551 - lr: 1.7783e-06\n",
            "Epoch 47/100\n",
            "93/93 [==============================] - 1s 4ms/step - loss: 22.2463 - lr: 1.9953e-06\n",
            "Epoch 48/100\n",
            "93/93 [==============================] - 1s 5ms/step - loss: 21.7909 - lr: 2.2387e-06\n",
            "Epoch 49/100\n",
            "93/93 [==============================] - 1s 4ms/step - loss: 21.2898 - lr: 2.5119e-06\n",
            "Epoch 50/100\n",
            "93/93 [==============================] - 1s 5ms/step - loss: 20.9340 - lr: 2.8184e-06\n",
            "Epoch 51/100\n",
            "93/93 [==============================] - 1s 4ms/step - loss: 20.5887 - lr: 3.1623e-06\n",
            "Epoch 52/100\n",
            "93/93 [==============================] - 1s 5ms/step - loss: 20.3312 - lr: 3.5481e-06\n",
            "Epoch 53/100\n",
            "93/93 [==============================] - 1s 5ms/step - loss: 20.0581 - lr: 3.9811e-06\n",
            "Epoch 54/100\n",
            "93/93 [==============================] - 1s 5ms/step - loss: 19.7354 - lr: 4.4668e-06\n",
            "Epoch 55/100\n",
            "93/93 [==============================] - 1s 5ms/step - loss: 19.3602 - lr: 5.0119e-06\n",
            "Epoch 56/100\n",
            "93/93 [==============================] - 1s 4ms/step - loss: 19.2540 - lr: 5.6234e-06\n",
            "Epoch 57/100\n",
            "93/93 [==============================] - 1s 5ms/step - loss: 18.9459 - lr: 6.3096e-06\n",
            "Epoch 58/100\n",
            "93/93 [==============================] - 1s 5ms/step - loss: 18.7934 - lr: 7.0795e-06\n",
            "Epoch 59/100\n",
            "93/93 [==============================] - 1s 5ms/step - loss: 18.4826 - lr: 7.9433e-06\n",
            "Epoch 60/100\n",
            "93/93 [==============================] - 1s 5ms/step - loss: 18.5271 - lr: 8.9125e-06\n",
            "Epoch 61/100\n",
            "93/93 [==============================] - 1s 5ms/step - loss: 18.4609 - lr: 1.0000e-05\n",
            "Epoch 62/100\n",
            "93/93 [==============================] - 1s 5ms/step - loss: 18.1833 - lr: 1.1220e-05\n",
            "Epoch 63/100\n",
            "93/93 [==============================] - 1s 5ms/step - loss: 18.4144 - lr: 1.2589e-05\n",
            "Epoch 64/100\n",
            "93/93 [==============================] - 1s 4ms/step - loss: 18.7396 - lr: 1.4125e-05\n",
            "Epoch 65/100\n",
            "93/93 [==============================] - 1s 5ms/step - loss: 18.2271 - lr: 1.5849e-05\n",
            "Epoch 66/100\n",
            "93/93 [==============================] - 1s 4ms/step - loss: 18.0910 - lr: 1.7783e-05\n",
            "Epoch 67/100\n",
            "93/93 [==============================] - 1s 5ms/step - loss: 18.2044 - lr: 1.9953e-05\n",
            "Epoch 68/100\n",
            "93/93 [==============================] - 1s 4ms/step - loss: 18.1246 - lr: 2.2387e-05\n",
            "Epoch 69/100\n",
            "93/93 [==============================] - 1s 4ms/step - loss: 19.6745 - lr: 2.5119e-05\n",
            "Epoch 70/100\n",
            "93/93 [==============================] - 1s 5ms/step - loss: 18.0820 - lr: 2.8184e-05\n",
            "Epoch 71/100\n",
            "93/93 [==============================] - 1s 4ms/step - loss: 17.9362 - lr: 3.1623e-05\n",
            "Epoch 72/100\n",
            "93/93 [==============================] - 1s 4ms/step - loss: 18.8659 - lr: 3.5481e-05\n",
            "Epoch 73/100\n",
            "93/93 [==============================] - 1s 4ms/step - loss: 18.5522 - lr: 3.9811e-05\n",
            "Epoch 74/100\n",
            "93/93 [==============================] - 1s 5ms/step - loss: 18.0924 - lr: 4.4668e-05\n",
            "Epoch 75/100\n",
            "93/93 [==============================] - 1s 4ms/step - loss: 17.9850 - lr: 5.0119e-05\n",
            "Epoch 76/100\n",
            "93/93 [==============================] - 1s 4ms/step - loss: 17.9098 - lr: 5.6234e-05\n",
            "Epoch 77/100\n",
            "93/93 [==============================] - 1s 5ms/step - loss: 18.5346 - lr: 6.3096e-05\n",
            "Epoch 78/100\n",
            "93/93 [==============================] - 1s 5ms/step - loss: 19.4256 - lr: 7.0795e-05\n",
            "Epoch 79/100\n",
            "93/93 [==============================] - 1s 5ms/step - loss: 18.8751 - lr: 7.9433e-05\n",
            "Epoch 80/100\n",
            "93/93 [==============================] - 1s 5ms/step - loss: 19.1011 - lr: 8.9125e-05\n",
            "Epoch 81/100\n",
            "93/93 [==============================] - 1s 5ms/step - loss: 18.6288 - lr: 1.0000e-04\n",
            "Epoch 82/100\n",
            "93/93 [==============================] - 1s 4ms/step - loss: 19.3057 - lr: 1.1220e-04\n",
            "Epoch 83/100\n",
            "93/93 [==============================] - 1s 4ms/step - loss: 18.0130 - lr: 1.2589e-04\n",
            "Epoch 84/100\n",
            "93/93 [==============================] - 1s 5ms/step - loss: 19.4265 - lr: 1.4125e-04\n",
            "Epoch 85/100\n",
            "93/93 [==============================] - 1s 5ms/step - loss: 18.4494 - lr: 1.5849e-04\n",
            "Epoch 86/100\n",
            "93/93 [==============================] - 1s 5ms/step - loss: 18.5511 - lr: 1.7783e-04\n",
            "Epoch 87/100\n",
            "93/93 [==============================] - 1s 5ms/step - loss: 18.6886 - lr: 1.9953e-04\n",
            "Epoch 88/100\n",
            "93/93 [==============================] - 1s 4ms/step - loss: 19.1543 - lr: 2.2387e-04\n",
            "Epoch 89/100\n",
            "93/93 [==============================] - 1s 4ms/step - loss: 21.9696 - lr: 2.5119e-04\n",
            "Epoch 90/100\n",
            "93/93 [==============================] - 1s 4ms/step - loss: 21.4339 - lr: 2.8184e-04\n",
            "Epoch 91/100\n",
            "93/93 [==============================] - 1s 5ms/step - loss: 21.9101 - lr: 3.1623e-04\n",
            "Epoch 92/100\n",
            "93/93 [==============================] - 1s 5ms/step - loss: 21.6166 - lr: 3.5481e-04\n",
            "Epoch 93/100\n",
            "93/93 [==============================] - 1s 5ms/step - loss: 20.6997 - lr: 3.9811e-04\n",
            "Epoch 94/100\n",
            "93/93 [==============================] - 1s 5ms/step - loss: 20.7097 - lr: 4.4668e-04\n",
            "Epoch 95/100\n",
            "93/93 [==============================] - 1s 5ms/step - loss: 22.0190 - lr: 5.0119e-04\n",
            "Epoch 96/100\n",
            "93/93 [==============================] - 1s 5ms/step - loss: 25.1530 - lr: 5.6234e-04\n",
            "Epoch 97/100\n",
            "93/93 [==============================] - 1s 4ms/step - loss: 23.8794 - lr: 6.3096e-04\n",
            "Epoch 98/100\n",
            "93/93 [==============================] - 1s 5ms/step - loss: 20.9912 - lr: 7.0795e-04\n",
            "Epoch 99/100\n",
            "93/93 [==============================] - 1s 4ms/step - loss: 27.5963 - lr: 7.9433e-04\n",
            "Epoch 100/100\n",
            "93/93 [==============================] - 1s 4ms/step - loss: 35.7375 - lr: 8.9125e-04\n"
          ]
        }
      ]
    },
    {
      "cell_type": "code",
      "source": [
        "# Define the learning rate array\n",
        "lrs = 1e-8 * (10 ** (np.arange(100) / 20))\n",
        "\n",
        "# Set the figure size\n",
        "plt.figure(figsize=(10, 6))\n",
        "\n",
        "# Set the grid\n",
        "plt.grid(True)\n",
        "\n",
        "# Plot the loss in log scale\n",
        "plt.semilogx(lrs, history.history[\"loss\"])\n",
        "\n",
        "# Increase the tickmarks size\n",
        "plt.tick_params('both', length=10, width=1, which='both')\n",
        "\n",
        "# Set the plot boundaries\n",
        "plt.axis([1e-8, 1e-3, 0, 100])"
      ],
      "metadata": {
        "colab": {
          "base_uri": "https://localhost:8080/",
          "height": 405
        },
        "id": "q7tYGNVL4QZe",
        "outputId": "d08255f9-f4c3-4ffe-dac4-da41beba719e"
      },
      "execution_count": 13,
      "outputs": [
        {
          "output_type": "execute_result",
          "data": {
            "text/plain": [
              "(1e-08, 0.001, 0.0, 100.0)"
            ]
          },
          "metadata": {},
          "execution_count": 13
        },
        {
          "output_type": "display_data",
          "data": {
            "text/plain": [
              "<Figure size 720x432 with 1 Axes>"
            ],
            "image/png": "[encoded data removed]"
          },
          "metadata": {
            "needs_background": "light"
          }
        }
      ]
    },
    {
      "cell_type": "markdown",
      "source": [
        "# Train the Model"
      ],
      "metadata": {
        "id": "9OXEk-366NXc"
      }
    },
    {
      "cell_type": "code",
      "source": [
        "# Reset states generated by Keras\n",
        "tf.keras.backend.clear_session()\n",
        "\n",
        "# Build the Model\n",
        "model = tf.keras.models.Sequential([\n",
        "    tf.keras.layers.Dense(30, input_shape=[window_size], activation=\"relu\"), \n",
        "    tf.keras.layers.Dense(10, activation=\"relu\"),\n",
        "    tf.keras.layers.Dense(1)\n",
        "])"
      ],
      "metadata": {
        "id": "XtGn-alS6TIb"
      },
      "execution_count": 14,
      "outputs": []
    },
    {
      "cell_type": "code",
      "source": [
        "# Set the learning rate\n",
        "learning_rate = 2e-5\n",
        "\n",
        "# Set the optimizer \n",
        "optimizer = tf.keras.optimizers.SGD(learning_rate=learning_rate, momentum=0.9)\n",
        "\n",
        "# Set the training parameters\n",
        "model.compile(loss=tf.keras.losses.Huber(),\n",
        "              optimizer=optimizer,\n",
        "              metrics=[\"mae\"])\n",
        "\n",
        "# Train the model\n",
        "history = model.fit(train_set,epochs=100)"
      ],
      "metadata": {
        "colab": {
          "base_uri": "https://localhost:8080/"
        },
        "id": "iZ7ABE776YMy",
        "outputId": "2c54223e-0d20-48fa-e258-b1f552ee7ad4"
      },
      "execution_count": 15,
      "outputs": [
        {
          "output_type": "stream",
          "name": "stdout",
          "text": [
            "Epoch 1/100\n",
            "93/93 [==============================] - 2s 6ms/step - loss: 28.9074 - mae: 29.4024\n",
            "Epoch 2/100\n",
            "93/93 [==============================] - 1s 4ms/step - loss: 20.6112 - mae: 21.1047\n",
            "Epoch 3/100\n",
            "93/93 [==============================] - 1s 5ms/step - loss: 19.2901 - mae: 19.7828\n",
            "Epoch 4/100\n",
            "93/93 [==============================] - 1s 4ms/step - loss: 18.9498 - mae: 19.4430\n",
            "Epoch 5/100\n",
            "93/93 [==============================] - 1s 4ms/step - loss: 18.3347 - mae: 18.8255\n",
            "Epoch 6/100\n",
            "93/93 [==============================] - 1s 5ms/step - loss: 18.4981 - mae: 18.9900\n",
            "Epoch 7/100\n",
            "93/93 [==============================] - 1s 5ms/step - loss: 18.1866 - mae: 18.6790\n",
            "Epoch 8/100\n",
            "93/93 [==============================] - 1s 5ms/step - loss: 17.9059 - mae: 18.3984\n",
            "Epoch 9/100\n",
            "93/93 [==============================] - 1s 4ms/step - loss: 17.7157 - mae: 18.2070\n",
            "Epoch 10/100\n",
            "93/93 [==============================] - 1s 5ms/step - loss: 17.6425 - mae: 18.1344\n",
            "Epoch 11/100\n",
            "93/93 [==============================] - 1s 5ms/step - loss: 17.5495 - mae: 18.0423\n",
            "Epoch 12/100\n",
            "93/93 [==============================] - 1s 5ms/step - loss: 17.4492 - mae: 17.9409\n",
            "Epoch 13/100\n",
            "93/93 [==============================] - 1s 5ms/step - loss: 17.5065 - mae: 17.9967\n",
            "Epoch 14/100\n",
            "93/93 [==============================] - 1s 5ms/step - loss: 17.2912 - mae: 17.7834\n",
            "Epoch 15/100\n",
            "93/93 [==============================] - 1s 4ms/step - loss: 17.2014 - mae: 17.6924\n",
            "Epoch 16/100\n",
            "93/93 [==============================] - 1s 5ms/step - loss: 17.2340 - mae: 17.7256\n",
            "Epoch 17/100\n",
            "93/93 [==============================] - 1s 4ms/step - loss: 17.2094 - mae: 17.6998\n",
            "Epoch 18/100\n",
            "93/93 [==============================] - 1s 5ms/step - loss: 17.2263 - mae: 17.7163\n",
            "Epoch 19/100\n",
            "93/93 [==============================] - 1s 5ms/step - loss: 17.4543 - mae: 17.9459\n",
            "Epoch 20/100\n",
            "93/93 [==============================] - 1s 5ms/step - loss: 17.1411 - mae: 17.6318\n",
            "Epoch 21/100\n",
            "93/93 [==============================] - 1s 5ms/step - loss: 17.2337 - mae: 17.7249\n",
            "Epoch 22/100\n",
            "93/93 [==============================] - 1s 5ms/step - loss: 17.1469 - mae: 17.6376\n",
            "Epoch 23/100\n",
            "93/93 [==============================] - 1s 5ms/step - loss: 17.5703 - mae: 18.0635\n",
            "Epoch 24/100\n",
            "93/93 [==============================] - 1s 5ms/step - loss: 17.2421 - mae: 17.7329\n",
            "Epoch 25/100\n",
            "93/93 [==============================] - 1s 5ms/step - loss: 17.0596 - mae: 17.5519\n",
            "Epoch 26/100\n",
            "93/93 [==============================] - 1s 5ms/step - loss: 17.3799 - mae: 17.8721\n",
            "Epoch 27/100\n",
            "93/93 [==============================] - 1s 5ms/step - loss: 16.9446 - mae: 17.4340\n",
            "Epoch 28/100\n",
            "93/93 [==============================] - 1s 4ms/step - loss: 16.8891 - mae: 17.3788\n",
            "Epoch 29/100\n",
            "93/93 [==============================] - 1s 5ms/step - loss: 17.2715 - mae: 17.7630\n",
            "Epoch 30/100\n",
            "93/93 [==============================] - 1s 5ms/step - loss: 16.8562 - mae: 17.3474\n",
            "Epoch 31/100\n",
            "93/93 [==============================] - 1s 5ms/step - loss: 16.8851 - mae: 17.3746\n",
            "Epoch 32/100\n",
            "93/93 [==============================] - 1s 5ms/step - loss: 16.9345 - mae: 17.4255\n",
            "Epoch 33/100\n",
            "93/93 [==============================] - 1s 5ms/step - loss: 16.8348 - mae: 17.3250\n",
            "Epoch 34/100\n",
            "93/93 [==============================] - 1s 5ms/step - loss: 17.0027 - mae: 17.4951\n",
            "Epoch 35/100\n",
            "93/93 [==============================] - 1s 4ms/step - loss: 16.9005 - mae: 17.3924\n",
            "Epoch 36/100\n",
            "93/93 [==============================] - 1s 5ms/step - loss: 16.8394 - mae: 17.3311\n",
            "Epoch 37/100\n",
            "93/93 [==============================] - 1s 5ms/step - loss: 16.8943 - mae: 17.3855\n",
            "Epoch 38/100\n",
            "93/93 [==============================] - 1s 5ms/step - loss: 17.0004 - mae: 17.4923\n",
            "Epoch 39/100\n",
            "93/93 [==============================] - 1s 5ms/step - loss: 16.9031 - mae: 17.3939\n",
            "Epoch 40/100\n",
            "93/93 [==============================] - 1s 5ms/step - loss: 16.9360 - mae: 17.4272\n",
            "Epoch 41/100\n",
            "93/93 [==============================] - 1s 5ms/step - loss: 17.0179 - mae: 17.5091\n",
            "Epoch 42/100\n",
            "93/93 [==============================] - 1s 4ms/step - loss: 16.9160 - mae: 17.4075\n",
            "Epoch 43/100\n",
            "93/93 [==============================] - 1s 4ms/step - loss: 16.8571 - mae: 17.3488\n",
            "Epoch 44/100\n",
            "93/93 [==============================] - 1s 5ms/step - loss: 16.8918 - mae: 17.3844\n",
            "Epoch 45/100\n",
            "93/93 [==============================] - 1s 5ms/step - loss: 17.0747 - mae: 17.5668\n",
            "Epoch 46/100\n",
            "93/93 [==============================] - 1s 5ms/step - loss: 16.7882 - mae: 17.2798\n",
            "Epoch 47/100\n",
            "93/93 [==============================] - 1s 4ms/step - loss: 16.8764 - mae: 17.3685\n",
            "Epoch 48/100\n",
            "93/93 [==============================] - 1s 5ms/step - loss: 16.9041 - mae: 17.3951\n",
            "Epoch 49/100\n",
            "93/93 [==============================] - 1s 5ms/step - loss: 16.7795 - mae: 17.2721\n",
            "Epoch 50/100\n",
            "93/93 [==============================] - 1s 4ms/step - loss: 16.9299 - mae: 17.4226\n",
            "Epoch 51/100\n",
            "93/93 [==============================] - 1s 5ms/step - loss: 16.8298 - mae: 17.3222\n",
            "Epoch 52/100\n",
            "93/93 [==============================] - 1s 5ms/step - loss: 16.8566 - mae: 17.3491\n",
            "Epoch 53/100\n",
            "93/93 [==============================] - 1s 4ms/step - loss: 17.0012 - mae: 17.4919\n",
            "Epoch 54/100\n",
            "93/93 [==============================] - 1s 5ms/step - loss: 17.0523 - mae: 17.5424\n",
            "Epoch 55/100\n",
            "93/93 [==============================] - 1s 5ms/step - loss: 16.7623 - mae: 17.2534\n",
            "Epoch 56/100\n",
            "93/93 [==============================] - 1s 5ms/step - loss: 16.7010 - mae: 17.1933\n",
            "Epoch 57/100\n",
            "93/93 [==============================] - 1s 5ms/step - loss: 16.8512 - mae: 17.3428\n",
            "Epoch 58/100\n",
            "93/93 [==============================] - 1s 5ms/step - loss: 16.8514 - mae: 17.3434\n",
            "Epoch 59/100\n",
            "93/93 [==============================] - 1s 5ms/step - loss: 16.6906 - mae: 17.1812\n",
            "Epoch 60/100\n",
            "93/93 [==============================] - 1s 4ms/step - loss: 16.6470 - mae: 17.1384\n",
            "Epoch 61/100\n",
            "93/93 [==============================] - 1s 5ms/step - loss: 16.7303 - mae: 17.2207\n",
            "Epoch 62/100\n",
            "93/93 [==============================] - 1s 4ms/step - loss: 17.0066 - mae: 17.5004\n",
            "Epoch 63/100\n",
            "93/93 [==============================] - 1s 4ms/step - loss: 16.8676 - mae: 17.3599\n",
            "Epoch 64/100\n",
            "93/93 [==============================] - 1s 5ms/step - loss: 16.8251 - mae: 17.3165\n",
            "Epoch 65/100\n",
            "93/93 [==============================] - 1s 5ms/step - loss: 16.7953 - mae: 17.2850\n",
            "Epoch 66/100\n",
            "93/93 [==============================] - 1s 4ms/step - loss: 16.7472 - mae: 17.2384\n",
            "Epoch 67/100\n",
            "93/93 [==============================] - 1s 4ms/step - loss: 16.7227 - mae: 17.2137\n",
            "Epoch 68/100\n",
            "93/93 [==============================] - 1s 4ms/step - loss: 16.7320 - mae: 17.2233\n",
            "Epoch 69/100\n",
            "93/93 [==============================] - 1s 4ms/step - loss: 16.7296 - mae: 17.2218\n",
            "Epoch 70/100\n",
            "93/93 [==============================] - 1s 4ms/step - loss: 16.7478 - mae: 17.2392\n",
            "Epoch 71/100\n",
            "93/93 [==============================] - 1s 4ms/step - loss: 16.6771 - mae: 17.1683\n",
            "Epoch 72/100\n",
            "93/93 [==============================] - 1s 4ms/step - loss: 16.7908 - mae: 17.2816\n",
            "Epoch 73/100\n",
            "93/93 [==============================] - 1s 4ms/step - loss: 16.6704 - mae: 17.1618\n",
            "Epoch 74/100\n",
            "93/93 [==============================] - 1s 5ms/step - loss: 16.7625 - mae: 17.2531\n",
            "Epoch 75/100\n",
            "93/93 [==============================] - 1s 5ms/step - loss: 16.7753 - mae: 17.2649\n",
            "Epoch 76/100\n",
            "93/93 [==============================] - 1s 5ms/step - loss: 16.9360 - mae: 17.4274\n",
            "Epoch 77/100\n",
            "93/93 [==============================] - 1s 4ms/step - loss: 16.9294 - mae: 17.4214\n",
            "Epoch 78/100\n",
            "93/93 [==============================] - 1s 5ms/step - loss: 16.6622 - mae: 17.1531\n",
            "Epoch 79/100\n",
            "93/93 [==============================] - 1s 5ms/step - loss: 16.6826 - mae: 17.1747\n",
            "Epoch 80/100\n",
            "93/93 [==============================] - 1s 5ms/step - loss: 16.7188 - mae: 17.2111\n",
            "Epoch 81/100\n",
            "93/93 [==============================] - 1s 5ms/step - loss: 16.7563 - mae: 17.2477\n",
            "Epoch 82/100\n",
            "93/93 [==============================] - 1s 5ms/step - loss: 16.6019 - mae: 17.0915\n",
            "Epoch 83/100\n",
            "93/93 [==============================] - 1s 5ms/step - loss: 16.6049 - mae: 17.0964\n",
            "Epoch 84/100\n",
            "93/93 [==============================] - 1s 5ms/step - loss: 16.6586 - mae: 17.1505\n",
            "Epoch 85/100\n",
            "93/93 [==============================] - 1s 5ms/step - loss: 16.5788 - mae: 17.0694\n",
            "Epoch 86/100\n",
            "93/93 [==============================] - 1s 5ms/step - loss: 16.7390 - mae: 17.2313\n",
            "Epoch 87/100\n",
            "93/93 [==============================] - 1s 5ms/step - loss: 16.5557 - mae: 17.0461\n",
            "Epoch 88/100\n",
            "93/93 [==============================] - 1s 5ms/step - loss: 16.4947 - mae: 16.9866\n",
            "Epoch 89/100\n",
            "93/93 [==============================] - 1s 5ms/step - loss: 16.5223 - mae: 17.0124\n",
            "Epoch 90/100\n",
            "93/93 [==============================] - 1s 5ms/step - loss: 16.6557 - mae: 17.1469\n",
            "Epoch 91/100\n",
            "93/93 [==============================] - 1s 4ms/step - loss: 16.4603 - mae: 16.9527\n",
            "Epoch 92/100\n",
            "93/93 [==============================] - 1s 5ms/step - loss: 16.5950 - mae: 17.0842\n",
            "Epoch 93/100\n",
            "93/93 [==============================] - 1s 5ms/step - loss: 16.7672 - mae: 17.2581\n",
            "Epoch 94/100\n",
            "93/93 [==============================] - 1s 7ms/step - loss: 16.5952 - mae: 17.0848\n",
            "Epoch 95/100\n",
            "93/93 [==============================] - 1s 8ms/step - loss: 16.4623 - mae: 16.9525\n",
            "Epoch 96/100\n",
            "93/93 [==============================] - 1s 6ms/step - loss: 16.7599 - mae: 17.2516\n",
            "Epoch 97/100\n",
            "93/93 [==============================] - 1s 5ms/step - loss: 16.5510 - mae: 17.0418\n",
            "Epoch 98/100\n",
            "93/93 [==============================] - 1s 4ms/step - loss: 16.5862 - mae: 17.0771\n",
            "Epoch 99/100\n",
            "93/93 [==============================] - 1s 5ms/step - loss: 16.6177 - mae: 17.1096\n",
            "Epoch 100/100\n",
            "93/93 [==============================] - 1s 5ms/step - loss: 16.5046 - mae: 16.9951\n"
          ]
        }
      ]
    },
    {
      "cell_type": "code",
      "source": [
        "def model_forecast(model, series, window_size, batch_size):\n",
        "    \"\"\"Uses an input model to generate predictions on data windows\n",
        "\n",
        "    Args:\n",
        "      model (TF Keras Model) - model that accepts data windows\n",
        "      series (array of float) - contains the values of the time series\n",
        "      window_size (int) - the number of time steps to include in the window\n",
        "      batch_size (int) - the batch size\n",
        "\n",
        "    Returns:\n",
        "      forecast (numpy array) - array containing predictions\n",
        "    \"\"\"\n",
        "\n",
        "    # Generate a TF Dataset from the series values\n",
        "    dataset = tf.data.Dataset.from_tensor_slices(series)\n",
        "\n",
        "    # Window the data but only take those with the specified size\n",
        "    dataset = dataset.window(window_size, shift=1, drop_remainder=True)\n",
        "\n",
        "    # Flatten the windows by putting its elements in a single batch\n",
        "    dataset = dataset.flat_map(lambda w: w.batch(window_size))\n",
        "    \n",
        "    # Create batches of windows\n",
        "    dataset = dataset.batch(batch_size).prefetch(1)\n",
        "    \n",
        "    # Get predictions on the entire dataset\n",
        "    forecast = model.predict(dataset)\n",
        "    \n",
        "    return forecast"
      ],
      "metadata": {
        "id": "IxGV2qQK6ZpS"
      },
      "execution_count": 16,
      "outputs": []
    },
    {
      "cell_type": "code",
      "source": [
        "forecast_series = series[split_time- window_size:-1]\n",
        "\n",
        "forecast = model_forecast(model, forecast_series, window_size, batch_size)\n",
        "\n",
        "results = forecast.squeeze()\n",
        "\n",
        "plot_series(time_valid, (x_valid, results))"
      ],
      "metadata": {
        "colab": {
          "base_uri": "https://localhost:8080/",
          "height": 391
        },
        "id": "LlFCpjoL6uiw",
        "outputId": "6a70a790-5410-4f50-d286-69a8ffe887f5"
      },
      "execution_count": 17,
      "outputs": [
        {
          "output_type": "stream",
          "name": "stdout",
          "text": [
            "8/8 [==============================] - 0s 15ms/step\n"
          ]
        },
        {
          "output_type": "display_data",
          "data": {
            "text/plain": [
              "<Figure size 720x432 with 1 Axes>"
            ],
            "image/png": "[encoded data removed]"
          },
          "metadata": {
            "needs_background": "light"
          }
        }
      ]
    },
    {
      "cell_type": "code",
      "source": [
        "# Compute the MAE\n",
        "print(tf.keras.metrics.mean_absolute_error(x_valid, results).numpy())"
      ],
      "metadata": {
        "colab": {
          "base_uri": "https://localhost:8080/"
        },
        "id": "hNSvAGfL6_xs",
        "outputId": "4d61fa01-338c-4563-a142-66a5175b92d9"
      },
      "execution_count": 18,
      "outputs": [
        {
          "output_type": "stream",
          "name": "stdout",
          "text": [
            "14.346681\n"
          ]
        }
      ]
    },
    {
      "cell_type": "code",
      "source": [],
      "metadata": {
        "id": "usBQbQ_Z7B7m"
      },
      "execution_count": null,
      "outputs": []
    }
  ]
}