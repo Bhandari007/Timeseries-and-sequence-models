{
  "nbformat": 4,
  "nbformat_minor": 0,
  "metadata": {
    "colab": {
      "provenance": [],
      "authorship_tag": "ABX9TyPAAzFBZQBqR+nvKtro+yjY",
      "include_colab_link": true
    },
    "kernelspec": {
      "name": "python3",
      "display_name": "Python 3"
    },
    "language_info": {
      "name": "python"
    }
  },
  "cells": [
    {
      "cell_type": "markdown",
      "metadata": {
        "id": "view-in-github",
        "colab_type": "text"
      },
      "source": [
        "<a href=\"https://colab.research.google.com/github/Bhandari007/Timeseries-and-sequence-models/blob/main/C4W3_Assignment.ipynb\" target=\"_parent\"><img src=\"https://colab.research.google.com/assets/colab-badge.svg\" alt=\"Open In Colab\"/></a>"
      ]
    },
    {
      "cell_type": "markdown",
      "source": [
        "# Using a multi-layer LSTM for forecasting"
      ],
      "metadata": {
        "id": "PfPBWCHX0M-Y"
      }
    },
    {
      "cell_type": "markdown",
      "source": [
        "# Using RNNs to predict time series\n",
        "\n",
        "In this notebook, we'll be using Tensorflow's layers for processing sequence data such as Recurrent Layers or LSTMs to see how these approaches compare."
      ],
      "metadata": {
        "id": "3I2HH2Wq0YVC"
      }
    },
    {
      "cell_type": "code",
      "source": [],
      "metadata": {
        "id": "s6-BqvW70fLi"
      },
      "execution_count": null,
      "outputs": []
    }
  ]
}