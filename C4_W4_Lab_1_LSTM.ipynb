{
  "nbformat": 4,
  "nbformat_minor": 0,
  "metadata": {
    "colab": {
      "provenance": [],
      "authorship_tag": "ABX9TyPt4pYKrXv0qVZr85I9MMq8",
      "include_colab_link": true
    },
    "kernelspec": {
      "name": "python3",
      "display_name": "Python 3"
    },
    "language_info": {
      "name": "python"
    }
  },
  "cells": [
    {
      "cell_type": "markdown",
      "metadata": {
        "id": "view-in-github",
        "colab_type": "text"
      },
      "source": [
        "<a href=\"https://colab.research.google.com/github/Bhandari007/Timeseries-and-sequence-models/blob/main/C4_W4_Lab_1_LSTM.ipynb\" target=\"_parent\"><img src=\"https://colab.research.google.com/assets/colab-badge.svg\" alt=\"Open In Colab\"/></a>"
      ]
    },
    {
      "cell_type": "markdown",
      "source": [
        "# Using Convolutions with LSTMs\n",
        "\n",
        "In this lab, we will build upon the RNN models we built last week and append a convolution layer to it."
      ],
      "metadata": {
        "id": "hXx0yIMiTI5F"
      }
    },
    {
      "cell_type": "markdown",
      "source": [
        "# Imports"
      ],
      "metadata": {
        "id": "Ps_2GZRGTak6"
      }
    },
    {
      "cell_type": "code",
      "source": [
        "import tensorflow as tf\n",
        "import numpy as np\n",
        "import matplotlib.pyplot as plt"
      ],
      "metadata": {
        "id": "22xRrIpITcnu"
      },
      "execution_count": 1,
      "outputs": []
    },
    {
      "cell_type": "markdown",
      "source": [
        "# Utilities"
      ],
      "metadata": {
        "id": "2pDRg986ThWX"
      }
    },
    {
      "cell_type": "code",
      "source": [
        "def plot_series(x, y, format=\"-\", start=0, end=None, \n",
        "                title=None, xlabel=None, ylabel=None, legend=None ):\n",
        "    \"\"\"\n",
        "    Visualizes time series data\n",
        "\n",
        "    Args:\n",
        "      x (array of int) - contains values for the x-axis\n",
        "      y (array of int or tuple of arrays) - contains the values for the y-axis\n",
        "      format (string) - line style when plotting the graph\n",
        "      start (int) - first time step to plot\n",
        "      end (int) - last time step to plot\n",
        "      title (string) - title of the plot\n",
        "      xlabel (string) - label for the x-axis\n",
        "      ylabel (string) - label for the y-axis\n",
        "      legend (list of strings) - legend for the plot\n",
        "    \"\"\"\n",
        "\n",
        "    # Setup dimensions of the graph figure\n",
        "    plt.figure(figsize=(10, 6))\n",
        "    \n",
        "    # Check if there are more than two series to plot\n",
        "    if type(y) is tuple:\n",
        "\n",
        "      # Loop over the y elements\n",
        "      for y_curr in y:\n",
        "\n",
        "        # Plot the x and current y values\n",
        "        plt.plot(x[start:end], y_curr[start:end], format)\n",
        "\n",
        "    else:\n",
        "      # Plot the x and y values\n",
        "      plt.plot(x[start:end], y[start:end], format)\n",
        "\n",
        "    # Label the x-axis\n",
        "    plt.xlabel(xlabel)\n",
        "\n",
        "    # Label the y-axis\n",
        "    plt.ylabel(ylabel)\n",
        "\n",
        "    # Set the legend\n",
        "    if legend:\n",
        "      plt.legend(legend)\n",
        "\n",
        "    # Set the title\n",
        "    plt.title(title)\n",
        "\n",
        "    # Overlay a grid on the graph\n",
        "    plt.grid(True)\n",
        "\n",
        "    # Draw the graph on screen\n",
        "    plt.show()\n",
        "\n",
        "def trend(time, slope=0):\n",
        "    \"\"\"\n",
        "    Generates synthetic data that follows a straight line given a slope value.\n",
        "\n",
        "    Args:\n",
        "      time (array of int) - contains the time steps\n",
        "      slope (float) - determines the direction and steepness of the line\n",
        "\n",
        "    Returns:\n",
        "      series (array of float) - measurements that follow a straight line\n",
        "    \"\"\"\n",
        "\n",
        "    # Compute the linear series given the slope\n",
        "    series = slope * time\n",
        "\n",
        "    return series\n",
        "\n",
        "def seasonal_pattern(season_time):\n",
        "    \"\"\"\n",
        "    Just an arbitrary pattern, you can change it if you wish\n",
        "    \n",
        "    Args:\n",
        "      season_time (array of float) - contains the measurements per time step\n",
        "\n",
        "    Returns:\n",
        "      data_pattern (array of float) -  contains revised measurement values according \n",
        "                                  to the defined pattern\n",
        "    \"\"\"\n",
        "\n",
        "    # Generate the values using an arbitrary pattern\n",
        "    data_pattern = np.where(season_time < 0.4,\n",
        "                    np.cos(season_time * 2 * np.pi),\n",
        "                    1 / np.exp(3 * season_time))\n",
        "    \n",
        "    return data_pattern\n",
        "\n",
        "def seasonality(time, period, amplitude=1, phase=0):\n",
        "    \"\"\"\n",
        "    Repeats the same pattern at each period\n",
        "\n",
        "    Args:\n",
        "      time (array of int) - contains the time steps\n",
        "      period (int) - number of time steps before the pattern repeats\n",
        "      amplitude (int) - peak measured value in a period\n",
        "      phase (int) - number of time steps to shift the measured values\n",
        "\n",
        "    Returns:\n",
        "      data_pattern (array of float) - seasonal data scaled by the defined amplitude\n",
        "    \"\"\"\n",
        "    \n",
        "    # Define the measured values per period\n",
        "    season_time = ((time + phase) % period) / period\n",
        "\n",
        "    # Generates the seasonal data scaled by the defined amplitude\n",
        "    data_pattern = amplitude * seasonal_pattern(season_time)\n",
        "\n",
        "    return data_pattern\n",
        "\n",
        "def noise(time, noise_level=1, seed=None):\n",
        "    \"\"\"Generates a normally distributed noisy signal\n",
        "\n",
        "    Args:\n",
        "      time (array of int) - contains the time steps\n",
        "      noise_level (float) - scaling factor for the generated signal\n",
        "      seed (int) - number generator seed for repeatability\n",
        "\n",
        "    Returns:\n",
        "      noise (array of float) - the noisy signal\n",
        "    \"\"\"\n",
        "\n",
        "    # Initialize the random number generator\n",
        "    rnd = np.random.RandomState(seed)\n",
        "\n",
        "    # Generate a random number for each time step and scale by the noise level\n",
        "    noise = rnd.randn(len(time)) * noise_level\n",
        "    \n",
        "    return noise\n",
        "\n"
      ],
      "metadata": {
        "id": "L6v4sfjpTnuV"
      },
      "execution_count": 2,
      "outputs": []
    },
    {
      "cell_type": "markdown",
      "source": [
        "# Generate the Synthetic Data"
      ],
      "metadata": {
        "id": "u7Uu2dy2T5SZ"
      }
    },
    {
      "cell_type": "code",
      "source": [
        "# Parameters\n",
        "time = np.arange(4 * 365 + 1, dtype=\"float32\")\n",
        "baseline = 10\n",
        "amplitude = 40\n",
        "slope = 0.05\n",
        "noise_level = 5\n",
        "\n",
        "# Create the series\n",
        "series = baseline + trend(time, slope) + seasonality(time, period=365, amplitude=amplitude)\n",
        "\n",
        "# Update with noise\n",
        "series += noise(time, noise_level, seed=42)\n",
        "\n",
        "# Plot the results\n",
        "plot_series(time, series, xlabel='Time', ylabel='Value')"
      ],
      "metadata": {
        "colab": {
          "base_uri": "https://localhost:8080/",
          "height": 388
        },
        "id": "PiVFpoTNT8w_",
        "outputId": "31ca1fd2-24b5-41a2-87e6-36a2bdd26afc"
      },
      "execution_count": 3,
      "outputs": [
        {
          "output_type": "display_data",
          "data": {
            "text/plain": [
              "<Figure size 720x432 with 1 Axes>"
            ],
            "image/png": "[encoded data removed]"
          },
          "metadata": {
            "needs_background": "light"
          }
        }
      ]
    },
    {
      "cell_type": "markdown",
      "source": [
        "# Split the Dataset"
      ],
      "metadata": {
        "id": "XGnvGCyCT-Lz"
      }
    },
    {
      "cell_type": "code",
      "source": [
        "# Define the split time\n",
        "split_time = 1000\n",
        "\n",
        "# Get the train set \n",
        "time_train = time[:split_time]\n",
        "x_train = series[:split_time]\n",
        "\n",
        "# Get the validation set\n",
        "time_valid = time[split_time:]\n",
        "x_valid = series[split_time:]"
      ],
      "metadata": {
        "id": "5fJQ2IWXUAop"
      },
      "execution_count": 4,
      "outputs": []
    },
    {
      "cell_type": "markdown",
      "source": [
        "# Prepare Features and Labels"
      ],
      "metadata": {
        "id": "5OXYO_7KUCDW"
      }
    },
    {
      "cell_type": "code",
      "source": [
        "# Parameters \n",
        "window_size = 20\n",
        "batch_size = 16\n",
        "shuffle_buffer_size = 1000"
      ],
      "metadata": {
        "id": "gCRAwLF1UFKx"
      },
      "execution_count": 5,
      "outputs": []
    },
    {
      "cell_type": "code",
      "source": [
        "def windowed_dataset(series, window_size, batch_size, shuffle_buffer):\n",
        "  \n",
        "  # Generate TF dataset from the series value\n",
        "  dataset = tf.data.Dataset.from_tensor_slices(series)\n",
        "  \n",
        "  # Window the data but only take those with the specified size\n",
        "  dataset = dataset.window(window_size +1, shift = 1, drop_remainder = True)\n",
        "\n",
        "  # Flatten the windows by putting its elements in a single batch\n",
        "  dataset = dataset.flat_map(lambda window: window.batch(window_size + 1))\n",
        "\n",
        "  # Create tuples with features and labels\n",
        "  dataset = dataset.map(lambda window: (window[:-1], window[-1]))\n",
        "\n",
        "  # Shuffle the windows\n",
        "  dataset = dataset.shuffle(shuffle_buffer)\n",
        "\n",
        "  # Create batches of winodws\n",
        "  dataset = dataset.batch(batch_size).prefetch(1)\n",
        "\n",
        "  return dataset"
      ],
      "metadata": {
        "id": "lmNZjJVLUJ48"
      },
      "execution_count": 6,
      "outputs": []
    },
    {
      "cell_type": "code",
      "source": [
        "# Generate the dataset windows\n",
        "train_set = windowed_dataset(x_train, window_size, batch_size, shuffle_buffer_size)"
      ],
      "metadata": {
        "id": "Gp0PhkhFU9Uu"
      },
      "execution_count": 7,
      "outputs": []
    },
    {
      "cell_type": "markdown",
      "source": [
        "# Build the Model\n",
        "\n",
        "* For time series data, we want computations to only rely on current and previous time steps.\n",
        "* One way to do that is to pad the array depending on the kernel size and strid. For a kernel size of 3 and of stride of 1, the window can be padded as such : [0, 0, 1, 2, 3, 4, 5]. [1] is still at t=0 and two zeros are prepended to simulate values in the past.\n",
        "* This way, the first stride will be at [0, 0, 1] and tbis doesnot contain any future values when it is passed on to subsequent layers."
      ],
      "metadata": {
        "id": "FK0tm0XVU-9A"
      }
    },
    {
      "cell_type": "code",
      "source": [
        "# Reset states generated by Keras\n",
        "tf.keras.backend.clear_session()\n",
        "\n",
        "# Build the model\n",
        "model = tf.keras.models.Sequential([\n",
        "    tf.keras.layers.Conv1D(filters = 64,\n",
        "                           kernel_size = 3,\n",
        "                           strides = 1,\n",
        "                           padding = \"causal\",\n",
        "                           activation = \"relu\",\n",
        "                           input_shape = [window_size,1]),\n",
        "    tf.keras.layers.LSTM(64, return_sequences = True),\n",
        "    tf.keras.layers.LSTM(64),\n",
        "    tf.keras.layers.Dense(1),\n",
        "    tf.keras.layers.Lambda(lambda x: x* 400)\n",
        "])\n",
        "\n",
        "model.summary()"
      ],
      "metadata": {
        "colab": {
          "base_uri": "https://localhost:8080/"
        },
        "id": "zfQ2twC2V1b4",
        "outputId": "841f8e07-29c5-4f45-ca33-a2f0c901fb1b"
      },
      "execution_count": 10,
      "outputs": [
        {
          "output_type": "stream",
          "name": "stdout",
          "text": [
            "Model: \"sequential\"\n",
            "_________________________________________________________________\n",
            " Layer (type)                Output Shape              Param #   \n",
            "=================================================================\n",
            " conv1d (Conv1D)             (None, 20, 64)            256       \n",
            "                                                                 \n",
            " lstm (LSTM)                 (None, 20, 64)            33024     \n",
            "                                                                 \n",
            " lstm_1 (LSTM)               (None, 64)                33024     \n",
            "                                                                 \n",
            " dense (Dense)               (None, 1)                 65        \n",
            "                                                                 \n",
            " lambda (Lambda)             (None, 1)                 0         \n",
            "                                                                 \n",
            "=================================================================\n",
            "Total params: 66,369\n",
            "Trainable params: 66,369\n",
            "Non-trainable params: 0\n",
            "_________________________________________________________________\n"
          ]
        }
      ]
    },
    {
      "cell_type": "markdown",
      "source": [
        "# Tune the Learning Rate"
      ],
      "metadata": {
        "id": "PdGXCq4ZWXPP"
      }
    },
    {
      "cell_type": "code",
      "source": [
        "# Get initial weights\n",
        "init_weights = model.get_weights()"
      ],
      "metadata": {
        "id": "azLnuEEiWnkC"
      },
      "execution_count": 11,
      "outputs": []
    },
    {
      "cell_type": "code",
      "source": [
        "# Set the learning rate scheduler\n",
        "lr_schedule = tf.keras.callbacks.LearningRateScheduler(\n",
        "    lambda epoch: 1e-8 * (10 ** (epoch)/20)\n",
        ")\n",
        "\n",
        "# Intialize the optimizer\n",
        "optimizer = tf.keras.optimizers.SGD(momentum = 0.9)\n",
        "\n",
        "# Set the training parameters\n",
        "model.compile(loss = tf.keras.losses.Huber(), optimizer = optimizer)\n",
        "\n",
        "# Train the model\n",
        "history = model.fit(train_set, epochs = 100, callbacks = [lr_schedule])"
      ],
      "metadata": {
        "colab": {
          "base_uri": "https://localhost:8080/"
        },
        "id": "hXRPFdVHWskE",
        "outputId": "14ebe957-08b8-41f2-b367-2983d411789d"
      },
      "execution_count": 12,
      "outputs": [
        {
          "output_type": "stream",
          "name": "stdout",
          "text": [
            "Epoch 1/100\n",
            "62/62 [==============================] - 6s 21ms/step - loss: 223.2638 - lr: 5.0000e-10\n",
            "Epoch 2/100\n",
            "62/62 [==============================] - 1s 20ms/step - loss: 206.5150 - lr: 5.0000e-09\n",
            "Epoch 3/100\n",
            "62/62 [==============================] - 1s 21ms/step - loss: 80.6428 - lr: 5.0000e-08\n",
            "Epoch 4/100\n",
            "62/62 [==============================] - 1s 21ms/step - loss: 8.4554 - lr: 5.0000e-07\n",
            "Epoch 5/100\n",
            "62/62 [==============================] - 1s 20ms/step - loss: 16.9074 - lr: 5.0000e-06\n",
            "Epoch 6/100\n",
            "62/62 [==============================] - 1s 20ms/step - loss: 50.3998 - lr: 5.0000e-05\n",
            "Epoch 7/100\n",
            "62/62 [==============================] - 1s 21ms/step - loss: 81.2687 - lr: 5.0000e-04\n",
            "Epoch 8/100\n",
            "62/62 [==============================] - 1s 21ms/step - loss: 1302.5104 - lr: 0.0050\n",
            "Epoch 9/100\n",
            "62/62 [==============================] - 1s 21ms/step - loss: 18900.6504 - lr: 0.0500\n",
            "Epoch 10/100\n",
            "62/62 [==============================] - 1s 21ms/step - loss: 173019.5938 - lr: 0.5000\n",
            "Epoch 11/100\n",
            "62/62 [==============================] - 1s 20ms/step - loss: 834621.0000 - lr: 5.0000\n",
            "Epoch 12/100\n",
            "62/62 [==============================] - 1s 20ms/step - loss: 8390026.0000 - lr: 50.0000\n",
            "Epoch 13/100\n",
            "62/62 [==============================] - 1s 21ms/step - loss: 83853448.0000 - lr: 500.0000\n",
            "Epoch 14/100\n",
            "62/62 [==============================] - 1s 20ms/step - loss: 838581056.0000 - lr: 5000.0000\n",
            "Epoch 15/100\n",
            "62/62 [==============================] - 1s 21ms/step - loss: 8385765376.0000 - lr: 50000.0000\n",
            "Epoch 16/100\n",
            "62/62 [==============================] - 1s 20ms/step - loss: 83857670144.0000 - lr: 500000.0000\n",
            "Epoch 17/100\n",
            "62/62 [==============================] - 1s 20ms/step - loss: 838576898048.0000 - lr: 5000000.0000\n",
            "Epoch 18/100\n",
            "62/62 [==============================] - 2s 25ms/step - loss: 8385767931904.0000 - lr: 50000000.0000\n",
            "Epoch 19/100\n",
            "62/62 [==============================] - 1s 20ms/step - loss: 83857692950528.0000 - lr: 500000000.0000\n",
            "Epoch 20/100\n",
            "62/62 [==============================] - 1s 21ms/step - loss: 838577063723008.0000 - lr: 5000000000.0000\n",
            "Epoch 21/100\n",
            "62/62 [==============================] - 1s 20ms/step - loss: 8385766879133696.0000 - lr: 49999998976.0000\n",
            "Epoch 22/100\n",
            "62/62 [==============================] - 1s 20ms/step - loss: 83857690266173440.0000 - lr: 499999997952.0000\n",
            "Epoch 23/100\n",
            "62/62 [==============================] - 2s 26ms/step - loss: 838576902661734400.0000 - lr: 4999999913984.0000\n",
            "Epoch 24/100\n",
            "62/62 [==============================] - 1s 20ms/step - loss: 8385769026617344000.0000 - lr: 50000000188416.0000\n",
            "Epoch 25/100\n",
            "62/62 [==============================] - 2s 29ms/step - loss: 83857693564708323328.0000 - lr: 499999993495552.0000\n",
            "Epoch 26/100\n",
            "62/62 [==============================] - 2s 36ms/step - loss: 838577006015827410944.0000 - lr: 5000000136282112.0000\n",
            "Epoch 27/100\n",
            "62/62 [==============================] - 2s 28ms/step - loss: 8385771749008134373376.0000 - lr: 49999999215337472.0000\n",
            "Epoch 28/100\n",
            "62/62 [==============================] - 2s 28ms/step - loss: 83857673579984976871424.0000 - lr: 499999992153374720.0000\n",
            "Epoch 29/100\n",
            "62/62 [==============================] - 2s 28ms/step - loss: 838577096087819958353920.0000 - lr: 4999999990253223936.0000\n",
            "Epoch 30/100\n",
            "62/62 [==============================] - 2s 27ms/step - loss: 8385769952071883052548096.0000 - lr: 50000001002043867136.0000\n",
            "Epoch 31/100\n",
            "62/62 [==============================] - 2s 27ms/step - loss: 83857671850602719961153536.0000 - lr: 500000010020438671360.0000\n",
            "Epoch 32/100\n",
            "62/62 [==============================] - 2s 32ms/step - loss: 838577032100676452673912832.0000 - lr: 4999999889098154180608.0000\n",
            "Epoch 33/100\n",
            "62/62 [==============================] - 2s 35ms/step - loss: 8385770025858859347386302464.0000 - lr: 49999998890981541806080.0000\n",
            "Epoch 34/100\n",
            "62/62 [==============================] - 3s 43ms/step - loss: 83857687272080765582338686976.0000 - lr: 500000006924213927542784.0000\n",
            "Epoch 35/100\n",
            "62/62 [==============================] - 2s 25ms/step - loss: 838576986057603244694871998464.0000 - lr: 4999999781011763123716096.0000\n",
            "Epoch 36/100\n",
            "62/62 [==============================] - 2s 28ms/step - loss: 8385771371733306965235188367360.0000 - lr: 50000001268882145057701888.0000\n",
            "Epoch 37/100\n",
            "62/62 [==============================] - 2s 33ms/step - loss: 83857690747742496974397564256256.0000 - lr: 499999994242077376867467264.0000\n",
            "Epoch 38/100\n",
            "62/62 [==============================] - 2s 31ms/step - loss: 838576791420546286739574870769664.0000 - lr: 4999999721059844884160053248.0000\n",
            "Epoch 39/100\n",
            "62/62 [==============================] - 3s 35ms/step - loss: 8385769306888007063448557969211392.0000 - lr: 50000000752373310993834442752.0000\n",
            "Epoch 40/100\n",
            "62/62 [==============================] - 3s 36ms/step - loss: 83857691830940031349105304792989696.0000 - lr: 500000007523733109938344427520.0000\n",
            "Epoch 41/100\n",
            "62/62 [==============================] - 3s 46ms/step - loss: inf - lr: 4999999924121603647554797436928.0000\n",
            "Epoch 42/100\n",
            "62/62 [==============================] - 2s 33ms/step - loss: inf - lr: 50000001659067675704806323781632.0000\n",
            "Epoch 43/100\n",
            "62/62 [==============================] - 2s 27ms/step - loss: inf - lr: 499999997247863643213996442517504.0000\n",
            "Epoch 44/100\n",
            "62/62 [==============================] - 2s 26ms/step - loss: nan - lr: 4999999895107383976803697243979776.0000\n",
            "Epoch 45/100\n",
            "62/62 [==============================] - 2s 27ms/step - loss: nan - lr: 50000002045923937981487659687608320.0000\n",
            "Epoch 46/100\n",
            "62/62 [==============================] - 2s 31ms/step - loss: nan - lr: 499999980845158122682707800104108032.0000\n",
            "Epoch 47/100\n",
            "62/62 [==============================] - 2s 37ms/step - loss: nan - lr: 4999999966907906255355753188128980992.0000\n",
            "Epoch 48/100\n",
            "62/62 [==============================] - 3s 38ms/step - loss: nan - lr: 49999998401428462325328130384586604544.0000\n",
            "Epoch 49/100\n",
            "62/62 [==============================] - 2s 36ms/step - loss: nan - lr: inf\n",
            "Epoch 50/100\n",
            "62/62 [==============================] - 3s 38ms/step - loss: nan - lr: inf\n",
            "Epoch 51/100\n",
            "62/62 [==============================] - 2s 27ms/step - loss: nan - lr: inf\n",
            "Epoch 52/100\n",
            "62/62 [==============================] - 2s 28ms/step - loss: nan - lr: inf\n",
            "Epoch 53/100\n",
            "62/62 [==============================] - 2s 26ms/step - loss: nan - lr: inf\n",
            "Epoch 54/100\n",
            "62/62 [==============================] - 2s 27ms/step - loss: nan - lr: inf\n",
            "Epoch 55/100\n",
            "62/62 [==============================] - 2s 28ms/step - loss: nan - lr: inf\n",
            "Epoch 56/100\n",
            "62/62 [==============================] - 2s 29ms/step - loss: nan - lr: inf\n",
            "Epoch 57/100\n",
            "62/62 [==============================] - 2s 27ms/step - loss: nan - lr: inf\n",
            "Epoch 58/100\n",
            "62/62 [==============================] - 2s 27ms/step - loss: nan - lr: inf\n",
            "Epoch 59/100\n",
            "62/62 [==============================] - 3s 38ms/step - loss: nan - lr: inf\n",
            "Epoch 60/100\n",
            "62/62 [==============================] - 2s 35ms/step - loss: nan - lr: inf\n",
            "Epoch 61/100\n",
            "62/62 [==============================] - 2s 32ms/step - loss: nan - lr: inf\n",
            "Epoch 62/100\n",
            "62/62 [==============================] - 3s 40ms/step - loss: nan - lr: inf\n",
            "Epoch 63/100\n",
            "62/62 [==============================] - 3s 36ms/step - loss: nan - lr: inf\n",
            "Epoch 64/100\n",
            "62/62 [==============================] - 3s 37ms/step - loss: nan - lr: inf\n",
            "Epoch 65/100\n",
            "62/62 [==============================] - 2s 35ms/step - loss: nan - lr: inf\n",
            "Epoch 66/100\n",
            "62/62 [==============================] - 1s 21ms/step - loss: nan - lr: inf\n",
            "Epoch 67/100\n",
            "62/62 [==============================] - 2s 29ms/step - loss: nan - lr: inf\n",
            "Epoch 68/100\n",
            "62/62 [==============================] - 2s 33ms/step - loss: nan - lr: inf\n",
            "Epoch 69/100\n",
            "62/62 [==============================] - 3s 40ms/step - loss: nan - lr: inf\n",
            "Epoch 70/100\n",
            "62/62 [==============================] - 3s 37ms/step - loss: nan - lr: inf\n",
            "Epoch 71/100\n",
            "62/62 [==============================] - 3s 36ms/step - loss: nan - lr: inf\n",
            "Epoch 72/100\n",
            "62/62 [==============================] - 1s 21ms/step - loss: nan - lr: inf\n",
            "Epoch 73/100\n",
            "62/62 [==============================] - 2s 27ms/step - loss: nan - lr: inf\n",
            "Epoch 74/100\n",
            "62/62 [==============================] - 2s 27ms/step - loss: nan - lr: inf\n",
            "Epoch 75/100\n",
            "62/62 [==============================] - 2s 26ms/step - loss: nan - lr: inf\n",
            "Epoch 76/100\n",
            "62/62 [==============================] - 2s 36ms/step - loss: nan - lr: inf\n",
            "Epoch 77/100\n",
            "62/62 [==============================] - 2s 29ms/step - loss: nan - lr: inf\n",
            "Epoch 78/100\n",
            "62/62 [==============================] - 2s 28ms/step - loss: nan - lr: inf\n",
            "Epoch 79/100\n",
            "62/62 [==============================] - 2s 26ms/step - loss: nan - lr: inf\n",
            "Epoch 80/100\n",
            "62/62 [==============================] - 2s 27ms/step - loss: nan - lr: inf\n",
            "Epoch 81/100\n",
            "62/62 [==============================] - 2s 25ms/step - loss: nan - lr: inf\n",
            "Epoch 82/100\n",
            "62/62 [==============================] - 2s 25ms/step - loss: nan - lr: inf\n",
            "Epoch 83/100\n",
            "62/62 [==============================] - 2s 33ms/step - loss: nan - lr: inf\n",
            "Epoch 84/100\n",
            "62/62 [==============================] - 3s 34ms/step - loss: nan - lr: inf\n",
            "Epoch 85/100\n",
            "62/62 [==============================] - 2s 33ms/step - loss: nan - lr: inf\n",
            "Epoch 86/100\n",
            "62/62 [==============================] - 2s 27ms/step - loss: nan - lr: inf\n",
            "Epoch 87/100\n",
            "62/62 [==============================] - 2s 29ms/step - loss: nan - lr: inf\n",
            "Epoch 88/100\n",
            "62/62 [==============================] - 2s 26ms/step - loss: nan - lr: inf\n",
            "Epoch 89/100\n",
            "62/62 [==============================] - 2s 27ms/step - loss: nan - lr: inf\n",
            "Epoch 90/100\n",
            "62/62 [==============================] - 2s 27ms/step - loss: nan - lr: inf\n",
            "Epoch 91/100\n",
            "62/62 [==============================] - 2s 31ms/step - loss: nan - lr: inf\n",
            "Epoch 92/100\n",
            "62/62 [==============================] - 3s 37ms/step - loss: nan - lr: inf\n",
            "Epoch 93/100\n",
            "62/62 [==============================] - 3s 47ms/step - loss: nan - lr: inf\n",
            "Epoch 94/100\n",
            "62/62 [==============================] - 1s 21ms/step - loss: nan - lr: inf\n",
            "Epoch 95/100\n",
            "62/62 [==============================] - 1s 21ms/step - loss: nan - lr: inf\n",
            "Epoch 96/100\n",
            "62/62 [==============================] - 1s 21ms/step - loss: nan - lr: inf\n",
            "Epoch 97/100\n",
            "62/62 [==============================] - 2s 32ms/step - loss: nan - lr: inf\n",
            "Epoch 98/100\n",
            "62/62 [==============================] - 1s 21ms/step - loss: nan - lr: inf\n",
            "Epoch 99/100\n",
            "62/62 [==============================] - 1s 21ms/step - loss: nan - lr: inf\n",
            "Epoch 100/100\n",
            "62/62 [==============================] - 1s 21ms/step - loss: nan - lr: inf\n"
          ]
        }
      ]
    },
    {
      "cell_type": "code",
      "source": [
        "# Define the learning rate array\n",
        "lrs = 1e-8 * (10 ** (np.arange(100)/20))\n",
        "\n",
        "# Set the figure size\n",
        "plt.figure(figsize = (10,6))\n",
        "\n",
        "# Set the grid\n",
        "plt.grid(True)\n",
        "\n",
        "# Plot the loss in log scale\n",
        "plt.semilogx(lrs, history.history[\"loss\"])\n",
        "\n",
        "# Increate the tickmarks size\n",
        "plt.tick_params('both', length = 10, width = 1, which = 'both')\n",
        "\n",
        "# Set the axis boundaries\n",
        "plt.axis([1e-8, 1e-3, 0, 50])"
      ],
      "metadata": {
        "colab": {
          "base_uri": "https://localhost:8080/",
          "height": 405
        },
        "id": "wi080EcdXIJO",
        "outputId": "c74c8386-2e08-401e-9e95-0142fa96d625"
      },
      "execution_count": 13,
      "outputs": [
        {
          "output_type": "execute_result",
          "data": {
            "text/plain": [
              "(1e-08, 0.001, 0.0, 50.0)"
            ]
          },
          "metadata": {},
          "execution_count": 13
        },
        {
          "output_type": "display_data",
          "data": {
            "text/plain": [
              "<Figure size 720x432 with 1 Axes>"
            ],
            "image/png": "[encoded data removed]"
          },
          "metadata": {
            "needs_background": "light"
          }
        }
      ]
    },
    {
      "cell_type": "markdown",
      "source": [
        "# Train the Model"
      ],
      "metadata": {
        "id": "-GoqitdpX3qf"
      }
    },
    {
      "cell_type": "code",
      "source": [
        "# Reset states generated by Keras\n",
        "tf.keras.backend.clear_session()\n",
        "\n",
        "# Reset the weights\n",
        "model.set_weights(init_weights)"
      ],
      "metadata": {
        "id": "lPtduEX3X6Pk"
      },
      "execution_count": 14,
      "outputs": []
    },
    {
      "cell_type": "code",
      "source": [
        "# Set the learning rate\n",
        "learning_rate = 1e-7\n",
        "\n",
        "# Set the optimizer\n",
        "optimizer = tf.keras.optimizers.SGD(\n",
        "    learning_rate = learning_rate,\n",
        "    momentum = 0.9\n",
        ")\n",
        "\n",
        "# Set the training parameters\n",
        "model.compile(\n",
        "    loss = tf.keras.losses.Huber(),\n",
        "    optimizer = optimizer,\n",
        "    metrics = [\"mae\"]\n",
        ")"
      ],
      "metadata": {
        "id": "KCnr9KHNYOAm"
      },
      "execution_count": 15,
      "outputs": []
    },
    {
      "cell_type": "code",
      "source": [
        "# Train the model\n",
        "history = model.fit(train_set, epochs = 500)"
      ],
      "metadata": {
        "id": "OvBbHwyjYiaM"
      },
      "execution_count": null,
      "outputs": []
    }
  ]
}