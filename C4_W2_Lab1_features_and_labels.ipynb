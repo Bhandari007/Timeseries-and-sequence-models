{
  "nbformat": 4,
  "nbformat_minor": 0,
  "metadata": {
    "colab": {
      "provenance": [],
      "authorship_tag": "ABX9TyPWz9ZJT3v2jlkFjHXJo+4O",
      "include_colab_link": true
    },
    "kernelspec": {
      "name": "python3",
      "display_name": "Python 3"
    },
    "language_info": {
      "name": "python"
    }
  },
  "cells": [
    {
      "cell_type": "markdown",
      "metadata": {
        "id": "view-in-github",
        "colab_type": "text"
      },
      "source": [
        "<a href=\"https://colab.research.google.com/github/Bhandari007/Timeseries-and-sequence-models/blob/main/C4_W2_Lab1_features_and_labels.ipynb\" target=\"_parent\"><img src=\"https://colab.research.google.com/assets/colab-badge.svg\" alt=\"Open In Colab\"/></a>"
      ]
    },
    {
      "cell_type": "markdown",
      "source": [
        "# Preparing Time Series Features and Labels\n",
        "\n",
        "In this lab, we will prepare time series data into features and labels that we can use to train a model. This is mainly achieved by a *windowing* technique where in we group consecutive measurement values into one feature and the next measurement will be the label. For example, in hourly measurements, we can use values taken at hours 1 to 11 to predict the value at hour 12."
      ],
      "metadata": {
        "id": "ASq8WQw4XI9a"
      }
    },
    {
      "cell_type": "markdown",
      "source": [
        "# Imports"
      ],
      "metadata": {
        "id": "uJx4ea3fX03L"
      }
    },
    {
      "cell_type": "code",
      "source": [
        "import tensorflow as tf"
      ],
      "metadata": {
        "id": "jfxY8_ZNX3G8"
      },
      "execution_count": 1,
      "outputs": []
    },
    {
      "cell_type": "markdown",
      "source": [
        "# Create a Simple Dataset"
      ],
      "metadata": {
        "id": "qTDQbT7fX6Mn"
      }
    },
    {
      "cell_type": "code",
      "source": [
        "dataset = tf.data.Dataset.range(10)\n",
        "\n",
        "for val in dataset:\n",
        "  print(val.numpy())"
      ],
      "metadata": {
        "colab": {
          "base_uri": "https://localhost:8080/"
        },
        "id": "rGCk8BoxYgsN",
        "outputId": "e767712d-8865-4994-90f1-f1ffe8f269ee"
      },
      "execution_count": 2,
      "outputs": [
        {
          "output_type": "stream",
          "name": "stdout",
          "text": [
            "0\n",
            "1\n",
            "2\n",
            "3\n",
            "4\n",
            "5\n",
            "6\n",
            "7\n",
            "8\n",
            "9\n"
          ]
        }
      ]
    },
    {
      "cell_type": "markdown",
      "source": [
        "# Windowing the data"
      ],
      "metadata": {
        "id": "BDeio2fSYno5"
      }
    },
    {
      "cell_type": "code",
      "source": [
        "# Generate a tf dataset with 10 elements\n",
        "dataset = tf.data.Dataset.range(10)\n",
        "\n",
        "dataset = dataset.window(size = 5, shift = 1)\n",
        "\n",
        "for window_dataset in dataset:\n",
        "  print(window_dataset)"
      ],
      "metadata": {
        "colab": {
          "base_uri": "https://localhost:8080/"
        },
        "id": "qLIw1cGiYqDu",
        "outputId": "c7ec3c27-03d1-4b40-a5e1-2c1e625d163a"
      },
      "execution_count": 7,
      "outputs": [
        {
          "output_type": "stream",
          "name": "stdout",
          "text": [
            "<_VariantDataset element_spec=TensorSpec(shape=(), dtype=tf.int64, name=None)>\n",
            "<_VariantDataset element_spec=TensorSpec(shape=(), dtype=tf.int64, name=None)>\n",
            "<_VariantDataset element_spec=TensorSpec(shape=(), dtype=tf.int64, name=None)>\n",
            "<_VariantDataset element_spec=TensorSpec(shape=(), dtype=tf.int64, name=None)>\n",
            "<_VariantDataset element_spec=TensorSpec(shape=(), dtype=tf.int64, name=None)>\n",
            "<_VariantDataset element_spec=TensorSpec(shape=(), dtype=tf.int64, name=None)>\n",
            "<_VariantDataset element_spec=TensorSpec(shape=(), dtype=tf.int64, name=None)>\n",
            "<_VariantDataset element_spec=TensorSpec(shape=(), dtype=tf.int64, name=None)>\n",
            "<_VariantDataset element_spec=TensorSpec(shape=(), dtype=tf.int64, name=None)>\n",
            "<_VariantDataset element_spec=TensorSpec(shape=(), dtype=tf.int64, name=None)>\n"
          ]
        }
      ]
    },
    {
      "cell_type": "code",
      "source": [
        "# Print the result\n",
        "for window_dataset in dataset:\n",
        "  print([item.numpy() for item in window_dataset])"
      ],
      "metadata": {
        "colab": {
          "base_uri": "https://localhost:8080/"
        },
        "id": "2PzWKXEXY7N8",
        "outputId": "2027ef1e-a15e-499b-c549-cb201b5747c8"
      },
      "execution_count": 8,
      "outputs": [
        {
          "output_type": "stream",
          "name": "stdout",
          "text": [
            "[0, 1, 2, 3, 4]\n",
            "[1, 2, 3, 4, 5]\n",
            "[2, 3, 4, 5, 6]\n",
            "[3, 4, 5, 6, 7]\n",
            "[4, 5, 6, 7, 8]\n",
            "[5, 6, 7, 8, 9]\n",
            "[6, 7, 8, 9]\n",
            "[7, 8, 9]\n",
            "[8, 9]\n",
            "[9]\n"
          ]
        }
      ]
    },
    {
      "cell_type": "code",
      "source": [
        "# Generate a tf dataset with 10 elements\n",
        "dataset = tf.data.Dataset.range(10)\n",
        "\n",
        "# Window the data but only take those with the specified size\n",
        "dataset = dataset.window(size = 5, shift = 1, drop_remainder = True)\n",
        "\n",
        "for window_dataset in dataset:\n",
        "  print([item.numpy() for item in window_dataset])"
      ],
      "metadata": {
        "colab": {
          "base_uri": "https://localhost:8080/"
        },
        "id": "Y5aBv9WsZNoH",
        "outputId": "fc763ae7-a79d-47cc-f4ec-f7d0dba533a3"
      },
      "execution_count": 10,
      "outputs": [
        {
          "output_type": "stream",
          "name": "stdout",
          "text": [
            "[0, 1, 2, 3, 4]\n",
            "[1, 2, 3, 4, 5]\n",
            "[2, 3, 4, 5, 6]\n",
            "[3, 4, 5, 6, 7]\n",
            "[4, 5, 6, 7, 8]\n",
            "[5, 6, 7, 8, 9]\n"
          ]
        }
      ]
    },
    {
      "cell_type": "markdown",
      "source": [
        "# Flatten the Windows"
      ],
      "metadata": {
        "id": "pdrCj6LwaOEB"
      }
    },
    {
      "cell_type": "code",
      "source": [
        "# Generate a tf dataset with 10 elements\n",
        "dataset = tf.data.Dataset.range(10)\n",
        "\n",
        "# Window the data but only take those with the specified size\n",
        "dataset = dataset.window(size = 5, shift = 1, drop_remainder = True)\n",
        "\n",
        "# Flatten the windows by putting its elements in a single batch\n",
        "dataset = dataset.flat_map(lambda window: window.batch(5))\n",
        "\n",
        "for window in dataset:\n",
        "  print(window.numpy())"
      ],
      "metadata": {
        "colab": {
          "base_uri": "https://localhost:8080/"
        },
        "id": "0P7yBVPvaW5r",
        "outputId": "10a55dc8-638d-4183-c214-99af0c1aed77"
      },
      "execution_count": 11,
      "outputs": [
        {
          "output_type": "stream",
          "name": "stdout",
          "text": [
            "[0 1 2 3 4]\n",
            "[1 2 3 4 5]\n",
            "[2 3 4 5 6]\n",
            "[3 4 5 6 7]\n",
            "[4 5 6 7 8]\n",
            "[5 6 7 8 9]\n"
          ]
        }
      ]
    },
    {
      "cell_type": "markdown",
      "source": [
        "# Group into features and labels"
      ],
      "metadata": {
        "id": "z7pQdFEEa3Kz"
      }
    },
    {
      "cell_type": "code",
      "source": [
        "dataset = dataset.map(lambda window : (window[:-1], window[-1]))\n",
        "\n",
        "for x, y in dataset:\n",
        "  print(f\"x = {x.numpy()}\")\n",
        "  print(f\"y = {y.numpy()}\")"
      ],
      "metadata": {
        "colab": {
          "base_uri": "https://localhost:8080/"
        },
        "id": "J9nh2DYpbFNP",
        "outputId": "efe0ea31-857d-4536-f23b-17ab9eef42bf"
      },
      "execution_count": 12,
      "outputs": [
        {
          "output_type": "stream",
          "name": "stdout",
          "text": [
            "x = [0 1 2 3]\n",
            "y = 4\n",
            "x = [1 2 3 4]\n",
            "y = 5\n",
            "x = [2 3 4 5]\n",
            "y = 6\n",
            "x = [3 4 5 6]\n",
            "y = 7\n",
            "x = [4 5 6 7]\n",
            "y = 8\n",
            "x = [5 6 7 8]\n",
            "y = 9\n"
          ]
        }
      ]
    },
    {
      "cell_type": "markdown",
      "source": [
        "# Shuffle the data"
      ],
      "metadata": {
        "id": "l3Wzh0S2bTHy"
      }
    },
    {
      "cell_type": "code",
      "source": [
        "dataset = tf.data.Dataset.range(10)\n",
        "\n",
        "dataset = dataset.window(5, shift = 1, drop_remainder = True)\n",
        "\n",
        "dataset = dataset.flat_map(lambda window: window.batch(5))\n",
        "\n",
        "dataset = dataset.map(lambda window: (window[:-1], window[-1]))\n",
        "\n",
        "# Shuffle the windows\n",
        "dataset = dataset.shuffle(buffer_size = 10)\n",
        "\n",
        "# Print the results\n",
        "for x,y in dataset:\n",
        "  print(f\"x = {x.numpy()}\")\n",
        "  print(f\"y = {y.numpy()}\")"
      ],
      "metadata": {
        "colab": {
          "base_uri": "https://localhost:8080/"
        },
        "id": "w7qMx-cGbdXG",
        "outputId": "d8d34fe6-62bf-41ff-fcf8-3d94e7faf292"
      },
      "execution_count": 15,
      "outputs": [
        {
          "output_type": "stream",
          "name": "stdout",
          "text": [
            "x = [2 3 4 5]\n",
            "y = 6\n",
            "x = [3 4 5 6]\n",
            "y = 7\n",
            "x = [4 5 6 7]\n",
            "y = 8\n",
            "x = [1 2 3 4]\n",
            "y = 5\n",
            "x = [5 6 7 8]\n",
            "y = 9\n",
            "x = [0 1 2 3]\n",
            "y = 4\n"
          ]
        }
      ]
    },
    {
      "cell_type": "markdown",
      "source": [
        "# Create batches for training"
      ],
      "metadata": {
        "id": "ReHfQUxHcPAr"
      }
    },
    {
      "cell_type": "code",
      "source": [
        "dataset = dataset.batch(2).prefetch(1)\n",
        "\n",
        "for x, y in dataset:\n",
        "  print(x.numpy())\n",
        "  print(y.numpy())"
      ],
      "metadata": {
        "colab": {
          "base_uri": "https://localhost:8080/"
        },
        "id": "8MjyGrBdcWhR",
        "outputId": "bb1e4091-dc13-4acd-d671-20a424445fb4"
      },
      "execution_count": 16,
      "outputs": [
        {
          "output_type": "stream",
          "name": "stdout",
          "text": [
            "[[5 6 7 8]\n",
            " [3 4 5 6]]\n",
            "[9 7]\n",
            "[[2 3 4 5]\n",
            " [1 2 3 4]]\n",
            "[6 5]\n",
            "[[0 1 2 3]\n",
            " [4 5 6 7]]\n",
            "[4 8]\n"
          ]
        }
      ]
    },
    {
      "cell_type": "code",
      "source": [],
      "metadata": {
        "id": "Ur2MJ9ZMcnsN"
      },
      "execution_count": null,
      "outputs": []
    }
  ]
}