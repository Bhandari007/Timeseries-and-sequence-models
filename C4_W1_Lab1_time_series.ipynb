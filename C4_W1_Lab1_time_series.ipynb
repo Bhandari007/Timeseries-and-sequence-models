{
  "nbformat": 4,
  "nbformat_minor": 0,
  "metadata": {
    "colab": {
      "provenance": [],
      "authorship_tag": "ABX9TyMb5hpqCWQSCtQM3MPixq1E",
      "include_colab_link": true
    },
    "kernelspec": {
      "name": "python3",
      "display_name": "Python 3"
    },
    "language_info": {
      "name": "python"
    }
  },
  "cells": [
    {
      "cell_type": "markdown",
      "metadata": {
        "id": "view-in-github",
        "colab_type": "text"
      },
      "source": [
        "<a href=\"https://colab.research.google.com/github/Bhandari007/Timeseries-and-sequence-models/blob/main/C4_W1_Lab1_time_series.ipynb\" target=\"_parent\"><img src=\"https://colab.research.google.com/assets/colab-badge.svg\" alt=\"Open In Colab\"/></a>"
      ]
    },
    {
      "cell_type": "markdown",
      "source": [
        "# Introduction to Time Series Plots"
      ],
      "metadata": {
        "id": "0pe_3PL1ahwA"
      }
    },
    {
      "cell_type": "code",
      "source": [],
      "metadata": {
        "id": "nOLRLRn_apgS"
      },
      "execution_count": null,
      "outputs": []
    }
  ]
}